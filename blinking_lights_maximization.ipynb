{
 "cells": [
  {
   "cell_type": "code",
   "execution_count": 7,
   "metadata": {},
   "outputs": [],
   "source": [
    "import numpy as np\n",
    "import matplotlib.pyplot as plt\n",
    "import scipy as sp\n",
    "import scipy.special"
   ]
  },
  {
   "cell_type": "code",
   "execution_count": 51,
   "metadata": {},
   "outputs": [],
   "source": [
    "def s(n, p):\n",
    "    prob_correct = 0\n",
    "    \n",
    "    if n%2 == 0:\n",
    "        max_num = int(n/2)\n",
    "    else:\n",
    "        max_num = int((n-1)/2)\n",
    "    \n",
    "    for i in range(max_num + 1):\n",
    "        prob_mass = sp.special.binom(n, i) * p**(n-i) * (1-p)**(i)\n",
    "        prob_correct += prob_mass\n",
    "        \n",
    "        if n%2 == 0 and i == max_num:\n",
    "            prob_correct -= prob_mass / 2\n",
    "    \n",
    "    return prob_correct\n",
    "\n",
    "def e(n, p, tot):\n",
    "    return s(n,p) * (p*(tot-n)) + (1-s(n, p)) * ((1-p)*(tot-n))\n",
    "    "
   ]
  },
  {
   "cell_type": "code",
   "execution_count": 52,
   "metadata": {},
   "outputs": [
    {
     "name": "stdout",
     "output_type": "stream",
     "text": [
      "0\n"
     ]
    }
   ],
   "source": [
    "for i in range(1):\n",
    "    print(i)"
   ]
  },
  {
   "cell_type": "code",
   "execution_count": 53,
   "metadata": {},
   "outputs": [
    {
     "data": {
      "text/plain": [
       "0.5"
      ]
     },
     "execution_count": 53,
     "metadata": {},
     "output_type": "execute_result"
    }
   ],
   "source": [
    "s(0, 0.6)"
   ]
  },
  {
   "cell_type": "code",
   "execution_count": 54,
   "metadata": {},
   "outputs": [
    {
     "data": {
      "text/plain": [
       "0.9720000000000001"
      ]
     },
     "execution_count": 54,
     "metadata": {},
     "output_type": "execute_result"
    }
   ],
   "source": [
    "s(3, 0.9)"
   ]
  },
  {
   "cell_type": "code",
   "execution_count": 55,
   "metadata": {},
   "outputs": [
    {
     "data": {
      "text/plain": [
       "528.0111999999999"
      ]
     },
     "execution_count": 55,
     "metadata": {},
     "output_type": "execute_result"
    }
   ],
   "source": [
    "e(3,0.6, 1000)"
   ]
  },
  {
   "cell_type": "code",
   "execution_count": 56,
   "metadata": {},
   "outputs": [],
   "source": [
    "%matplotlib widget"
   ]
  },
  {
   "cell_type": "code",
   "execution_count": 63,
   "metadata": {},
   "outputs": [
    {
     "data": {
      "application/vnd.jupyter.widget-view+json": {
       "model_id": "f2b1001ac41848d39a740bd5f03133f4",
       "version_major": 2,
       "version_minor": 0
      },
      "text/plain": [
       "Canvas(toolbar=Toolbar(toolitems=[('Home', 'Reset original view', 'home', 'home'), ('Back', 'Back to  previous…"
      ]
     },
     "metadata": {},
     "output_type": "display_data"
    },
    {
     "name": "stderr",
     "output_type": "stream",
     "text": [
      "No handles with labels found to put in legend.\n"
     ]
    },
    {
     "data": {
      "text/plain": [
       "<matplotlib.legend.Legend at 0x2a6f696ab00>"
      ]
     },
     "execution_count": 63,
     "metadata": {},
     "output_type": "execute_result"
    }
   ],
   "source": [
    "# num_trials = np.arange(1, 100, 1)\n",
    "# num_trials = np.arange(1, 101, 2)\n",
    "\n",
    "fig, ax = plt.subplots(1,1)\n",
    "\n",
    "# num_trials = np.arange(1, 101, 2)\n",
    "# ax.plot(num_trials, [e(n, 0.6, 1000) for n in num_trials], label='odd numbers')\n",
    "\n",
    "# num_trials = np.arange(0, 101, 2)\n",
    "# ax.plot(num_trials, [e(n, 0.6, 1000) for n in num_trials], label='even numbers')\n",
    "\n",
    "num_trials = np.arange(0, 101, 1)\n",
    "ax.plot(num_trials, [e(n, 0.6, 1000) for n in num_trials])\n",
    "\n",
    "ax.axvline(38, color='r', linestyle='--')\n",
    "\n",
    "ax.legend()\n",
    "\n",
    "# ax.set_xlable()"
   ]
  },
  {
   "cell_type": "code",
   "execution_count": 61,
   "metadata": {},
   "outputs": [
    {
     "data": {
      "text/plain": [
       "37"
      ]
     },
     "execution_count": 61,
     "metadata": {},
     "output_type": "execute_result"
    }
   ],
   "source": [
    "np.argmax([e(n, 0.6, 1000) for n in range(100)])"
   ]
  },
  {
   "cell_type": "code",
   "execution_count": 62,
   "metadata": {},
   "outputs": [
    {
     "data": {
      "text/plain": [
       "557.0032549309765"
      ]
     },
     "execution_count": 62,
     "metadata": {},
     "output_type": "execute_result"
    }
   ],
   "source": [
    "max([e(n, 0.6, 1000) for n in range(100)])"
   ]
  },
  {
   "cell_type": "code",
   "execution_count": null,
   "metadata": {},
   "outputs": [],
   "source": []
  }
 ],
 "metadata": {
  "kernelspec": {
   "display_name": "Python 3",
   "language": "python",
   "name": "python3"
  },
  "language_info": {
   "codemirror_mode": {
    "name": "ipython",
    "version": 3
   },
   "file_extension": ".py",
   "mimetype": "text/x-python",
   "name": "python",
   "nbconvert_exporter": "python",
   "pygments_lexer": "ipython3",
   "version": "3.6.4"
  }
 },
 "nbformat": 4,
 "nbformat_minor": 4
}
